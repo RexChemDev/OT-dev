{
 "cells": [
  {
   "cell_type": "code",
   "execution_count": 10,
   "metadata": {},
   "outputs": [
    {
     "name": "stdout",
     "output_type": "stream",
     "text": [
      "Listening on <socket.socket fd=57, family=AddressFamily.AF_INET, type=SocketKind.SOCK_STREAM, proto=0, laddr=('0.0.0.0', 65432)>...\n",
      "Connected by ('10.0.0.62', 52100)\n",
      "Sent ACK.\n",
      "Encountered STOP, closing socket.\n"
     ]
    }
   ],
   "source": [
    "import socket\n",
    "import json\n",
    "\n",
    "def listen():\n",
    "    HOST = \"0.0.0.0\"  # Bind to every address on this machine.\n",
    "    PORT = 65432  # Port to listen on (non-privileged ports are > 1023)\n",
    "\n",
    "    with socket.socket(socket.AF_INET, socket.SOCK_STREAM) as s:\n",
    "        s.bind((HOST, PORT))\n",
    "        print(f\"Listening on {s}...\")\n",
    "        s.listen()\n",
    "        conn, addr = s.accept()\n",
    "        with conn:\n",
    "            print(f\"Connected by {addr}\")\n",
    "            while True:\n",
    "                data = conn.recv(1024)\n",
    "                data = data.decode(\"utf-8\")\n",
    "                if not data:\n",
    "                    break\n",
    "                conn.sendall(b\"Robot received data.\")\n",
    "                print(\"Sent ACK.\")\n",
    "                return json.loads(data)\n",
    "\n",
    "commands = []\n",
    "while True:\n",
    "    data = listen()\n",
    "    if \"STOP\" in data:\n",
    "        commands = data\n",
    "        i = commands.index(\"STOP\")\n",
    "        if i != len(commands) - 1:\n",
    "            raise ProtocolError(\"STOP code not inserted at the end of the stream data.\")\n",
    "        print(f\"Encountered STOP, closing socket.\")\n",
    "        del commands[-1]\n",
    "        break\n"
   ]
  },
  {
   "cell_type": "code",
   "execution_count": 9,
   "metadata": {},
   "outputs": [
    {
     "name": "stdout",
     "output_type": "stream",
     "text": [
      "[['A1', 6000], ['A2', 5750], ['A3', 5500], ['A4', 5250], ['A5', 5000], ['A6', 4750], ['B1', 4500], ['B2', 4250], ['B3', 4000], ['B4', 3750], ['B5', 3500], ['B6', 3250], ['C1', 3000], ['C2', 2750], ['C3', 2500], ['C4', 2250], ['C5', 2000], ['C6', 1750], ['D1', 1500], ['D2', 1250], ['D3', 1000], ['D4', 750], ['D5', 500], ['D6', 250]]\n"
     ]
    }
   ],
   "source": [
    "print(commands)"
   ]
  },
  {
   "cell_type": "code",
   "execution_count": null,
   "metadata": {},
   "outputs": [],
   "source": []
  }
 ],
 "metadata": {
  "kernelspec": {
   "display_name": "Python 3",
   "language": "python",
   "name": "python3"
  },
  "language_info": {
   "codemirror_mode": {
    "name": "ipython",
    "version": 3
   },
   "file_extension": ".py",
   "mimetype": "text/x-python",
   "name": "python",
   "nbconvert_exporter": "python",
   "pygments_lexer": "ipython3",
   "version": "3.7.1"
  }
 },
 "nbformat": 4,
 "nbformat_minor": 2
}
