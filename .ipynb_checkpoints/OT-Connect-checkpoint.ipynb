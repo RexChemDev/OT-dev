{
 "cells": [
  {
   "cell_type": "code",
   "execution_count": 27,
   "metadata": {},
   "outputs": [
    {
     "name": "stdout",
     "output_type": "stream",
     "text": [
      "Listening on <socket.socket fd=59, family=AddressFamily.AF_INET, type=SocketKind.SOCK_STREAM, proto=0, laddr=('0.0.0.0', 65432)>...\n",
      "Connected by ('10.0.0.62', 2305)\n"
     ]
    }
   ],
   "source": [
    "import socket\n",
    "import time\n",
    "\n",
    "def listen():\n",
    "    HOST = \"0.0.0.0\"  # Standard loopback interface address (localhost)\n",
    "    PORT = 65432  # Port to listen on (non-privileged ports are > 1023)\n",
    "\n",
    "    with socket.socket(socket.AF_INET, socket.SOCK_STREAM) as s:\n",
    "        s.bind((HOST, PORT))\n",
    "        print(f\"Listening on {s}...\")\n",
    "        s.listen()\n",
    "        conn, addr = s.accept()\n",
    "        with conn:\n",
    "            print(f\"Connected by {addr}\")\n",
    "            while True:\n",
    "                data = conn.recv(1024)\n",
    "                data = data.decode(\"utf-8\")\n",
    "                if not data:\n",
    "                    break\n",
    "                conn.sendall(b\"ACK\")\n",
    "                return data\n",
    "\n",
    "data = listen()"
   ]
  },
  {
   "cell_type": "code",
   "execution_count": 25,
   "metadata": {},
   "outputs": [
    {
     "name": "stdout",
     "output_type": "stream",
     "text": [
      "[['TRANS', '5', 'RexWell', 'A1', 'RexTLC', 'A1', 'NEWTIP'], ['TRANS', '5', 'RexWell', 'A1', 'RexTLC', 'A2']]\n"
     ]
    }
   ],
   "source": [
    "commands = [x.split(\":\") for x in data.split(\"!\")]\n",
    "print(commands)\n"
   ]
  },
  {
   "cell_type": "code",
   "execution_count": 28,
   "metadata": {},
   "outputs": [
    {
     "name": "stdout",
     "output_type": "stream",
     "text": [
      "b'[{\"command\": \"trans\", \"vol\": 5, \"src\": [\"RexWell\", \"A1\"], \"dst\": [\"RexTLC\", \"A1\"]}, {\"command\": \"trans\", \"vol\": 5, \"src\": [\"RexWell\", \"A1\"], \"dst\": [\"RexTLC\", \"A2\"]}]'\n"
     ]
    }
   ],
   "source": [
    "print(data)"
   ]
  },
  {
   "cell_type": "code",
   "execution_count": null,
   "metadata": {},
   "outputs": [],
   "source": []
  }
 ],
 "metadata": {
  "kernelspec": {
   "display_name": "Python 3",
   "language": "python",
   "name": "python3"
  }
 },
 "nbformat": 4,
 "nbformat_minor": 2
}
