{
 "cells": [
  {
   "cell_type": "code",
   "execution_count": 47,
   "metadata": {},
   "outputs": [],
   "source": [
    "import json\n",
    "import pandas as pd\n",
    "import opentrons.execute\n",
    "from string import ascii_uppercase\n",
    "\n",
    "def custom_labware(file_name, location):\n",
    "    protocol = opentrons.execute.get_protocol_api(\"2.12\")\n",
    "    with open(str(file_name)) as labware_file:\n",
    "        labware_def = json.load(labware_file)\n",
    "        return protocol.load_labware_from_definition(labware_def, int(location))\n",
    "\n",
    "\n",
    "def coord_iter(last_letter=\"H\", last_number=12):\n",
    "    letter_sequence = ascii_uppercase[:ascii_uppercase.index(last_letter) + 1]\n",
    "    number_sequence = [i for i in range(1, last_number + 1)]\n",
    "    coord_grid = [[f\"{letter}{number}\" for number in number_sequence] for letter in letter_sequence]\n",
    "    for row in coord_grid:\n",
    "        for item in row:\n",
    "            yield item\n"
   ]
  },
  {
   "cell_type": "code",
   "execution_count": 115,
   "metadata": {},
   "outputs": [],
   "source": [
    "class Worker:\n",
    "    \n",
    "    def __init__(self, sheet_name, index_col=0, vol_col=12, last_letter=\"H\", last_number=12):\n",
    "        self.index_col, self.vol_col = index_col, vol_col\n",
    "        self.raw_instructions = self._parse_excel(sheet_name)\n",
    "        self.sequence = list(coord_iter(last_letter, last_number))\n",
    "        self.commands = list(map(self._command, self.raw_instructions))\n",
    "        \n",
    "    \n",
    "    def _command(self, sheet_entry: list):\n",
    "        try:\n",
    "            attempt_index = sheet_entry[self.index_col] - 1\n",
    "            location = self.sequence[attempt_index]\n",
    "        except IndexError:\n",
    "            print(\"WARNING: There are more compounds than plate positions.\")\n",
    "            print(f\"Command translation has stopped at index {attempt_index}.\")\n",
    "            raise StopIteration # cuts off mapping prematurely.\n",
    "        return {\n",
    "            \"location\": location,\n",
    "            \"volume\": int(sheet_entry[self.vol_col])\n",
    "        }\n",
    "    \n",
    "    def _parse_excel(self, sheet_name):\n",
    "        print(\"Reading spreadsheet data...\")\n",
    "        xl_data = pd.read_excel(sheet_name, engine=\"openpyxl\")\n",
    "        raw_instructions = xl_data.values.tolist()\n",
    "        #print(raw_instructions)\n",
    "        print(\"Finished reading.\")\n",
    "        return raw_instructions"
   ]
  },
  {
   "cell_type": "code",
   "execution_count": null,
   "metadata": {},
   "outputs": [],
   "source": [
    "\n"
   ]
  },
  {
   "cell_type": "code",
   "execution_count": 116,
   "metadata": {},
   "outputs": [
    {
     "name": "stdout",
     "output_type": "stream",
     "text": [
      "Reading spreadsheet data...\n",
      "Finished reading.\n",
      "WARNING: There are more compounds than plate positions.\n",
      "Offender is index 24.\n"
     ]
    },
    {
     "data": {
      "text/plain": [
       "[{'location': 'A1', 'volume': 1995},\n",
       " {'location': 'A2', 'volume': 1924},\n",
       " {'location': 'A3', 'volume': 1907},\n",
       " {'location': 'A4', 'volume': 1830},\n",
       " {'location': 'A5', 'volume': 1823},\n",
       " {'location': 'A6', 'volume': 1612},\n",
       " {'location': 'B1', 'volume': 1569},\n",
       " {'location': 'B2', 'volume': 1534},\n",
       " {'location': 'B3', 'volume': 1533},\n",
       " {'location': 'B4', 'volume': 1513},\n",
       " {'location': 'B5', 'volume': 1512},\n",
       " {'location': 'B6', 'volume': 1372},\n",
       " {'location': 'C1', 'volume': 1308},\n",
       " {'location': 'C2', 'volume': 1298},\n",
       " {'location': 'C3', 'volume': 1094},\n",
       " {'location': 'C4', 'volume': 1019},\n",
       " {'location': 'C5', 'volume': 991},\n",
       " {'location': 'C6', 'volume': 977},\n",
       " {'location': 'D1', 'volume': 904},\n",
       " {'location': 'D2', 'volume': 897},\n",
       " {'location': 'D3', 'volume': 875},\n",
       " {'location': 'D4', 'volume': 867},\n",
       " {'location': 'D5', 'volume': 863},\n",
       " {'location': 'D6', 'volume': 839}]"
      ]
     },
     "execution_count": 116,
     "metadata": {},
     "output_type": "execute_result"
    }
   ],
   "source": [
    "test = Worker(\"SSFL_data.xlsx\", last_letter=\"D\", last_number=6)\n",
    "test.commands"
   ]
  },
  {
   "cell_type": "code",
   "execution_count": null,
   "metadata": {},
   "outputs": [],
   "source": [
    "        "
   ]
  },
  {
   "cell_type": "code",
   "execution_count": null,
   "metadata": {},
   "outputs": [],
   "source": []
  },
  {
   "cell_type": "code",
   "execution_count": null,
   "metadata": {},
   "outputs": [],
   "source": []
  }
 ],
 "metadata": {
  "kernelspec": {
   "display_name": "Python 3",
   "language": "python",
   "name": "python3"
  },
  "language_info": {
   "codemirror_mode": {
    "name": "ipython",
    "version": 3
   },
   "file_extension": ".py",
   "mimetype": "text/x-python",
   "name": "python",
   "nbconvert_exporter": "python",
   "pygments_lexer": "ipython3",
   "version": "3.7.1"
  }
 },
 "nbformat": 4,
 "nbformat_minor": 2
}
