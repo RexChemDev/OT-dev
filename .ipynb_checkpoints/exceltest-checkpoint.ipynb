{
 "cells": [
  {
   "cell_type": "code",
   "execution_count": 3,
   "metadata": {},
   "outputs": [
    {
     "name": "stdout",
     "output_type": "stream",
     "text": [
      "[{'location': 'A1', 'volume': 100}, {'location': 'A2', 'volume': 150}, {'location': 'A3', 'volume': 200}, {'location': 'A4', 'volume': 250}, {'location': 'A5', 'volume': 300}, {'location': 'A6', 'volume': 350}, {'location': 'A7', 'volume': 400}, {'location': 'A8', 'volume': 450}, {'location': 'A9', 'volume': 500}, {'location': 'A10', 'volume': 550}, {'location': 'A11', 'volume': 600}, {'location': 'A12', 'volume': 650}, {'location': 'B1', 'volume': 100}, {'location': 'B2', 'volume': 150}, {'location': 'B3', 'volume': 200}, {'location': 'B4', 'volume': 250}, {'location': 'B5', 'volume': 300}, {'location': 'B6', 'volume': 350}, {'location': 'B7', 'volume': 400}, {'location': 'B8', 'volume': 450}, {'location': 'B9', 'volume': 500}, {'location': 'B10', 'volume': 550}, {'location': 'B11', 'volume': 600}, {'location': 'B12', 'volume': 650}, {'location': 'C1', 'volume': 100}, {'location': 'C2', 'volume': 150}, {'location': 'C3', 'volume': 200}, {'location': 'C4', 'volume': 250}, {'location': 'C5', 'volume': 300}, {'location': 'C6', 'volume': 350}, {'location': 'C7', 'volume': 400}, {'location': 'C8', 'volume': 450}, {'location': 'C9', 'volume': 500}, {'location': 'C10', 'volume': 550}, {'location': 'C11', 'volume': 600}, {'location': 'C12', 'volume': 650}, {'location': 'D1', 'volume': 100}, {'location': 'D2', 'volume': 150}, {'location': 'D3', 'volume': 200}, {'location': 'D4', 'volume': 250}, {'location': 'D5', 'volume': 300}, {'location': 'D6', 'volume': 350}, {'location': 'D7', 'volume': 400}, {'location': 'D8', 'volume': 450}, {'location': 'D9', 'volume': 500}, {'location': 'D10', 'volume': 550}, {'location': 'D11', 'volume': 600}, {'location': 'D12', 'volume': 650}, {'location': 'E1', 'volume': 100}, {'location': 'E2', 'volume': 150}, {'location': 'E3', 'volume': 200}, {'location': 'E4', 'volume': 250}, {'location': 'E5', 'volume': 300}, {'location': 'E6', 'volume': 350}, {'location': 'E7', 'volume': 400}, {'location': 'E8', 'volume': 450}, {'location': 'E9', 'volume': 500}, {'location': 'E10', 'volume': 550}, {'location': 'E11', 'volume': 600}, {'location': 'E12', 'volume': 650}, {'location': 'F1', 'volume': 100}, {'location': 'F2', 'volume': 150}, {'location': 'F3', 'volume': 200}, {'location': 'F4', 'volume': 250}, {'location': 'F5', 'volume': 300}, {'location': 'F6', 'volume': 350}, {'location': 'F7', 'volume': 400}, {'location': 'F8', 'volume': 450}, {'location': 'F9', 'volume': 500}, {'location': 'F10', 'volume': 550}, {'location': 'F11', 'volume': 600}, {'location': 'F12', 'volume': 650}, {'location': 'G1', 'volume': 100}, {'location': 'G2', 'volume': 150}, {'location': 'G3', 'volume': 200}, {'location': 'G4', 'volume': 250}, {'location': 'G5', 'volume': 300}, {'location': 'G6', 'volume': 350}, {'location': 'G7', 'volume': 400}, {'location': 'G8', 'volume': 450}, {'location': 'G9', 'volume': 500}, {'location': 'G10', 'volume': 550}, {'location': 'G11', 'volume': 600}, {'location': 'G12', 'volume': 650}, {'location': 'H1', 'volume': 100}, {'location': 'H2', 'volume': 150}, {'location': 'H3', 'volume': 200}, {'location': 'H4', 'volume': 250}, {'location': 'H5', 'volume': 300}, {'location': 'H6', 'volume': 350}, {'location': 'H7', 'volume': 400}, {'location': 'H8', 'volume': 450}, {'location': 'H9', 'volume': 500}, {'location': 'H10', 'volume': 550}, {'location': 'H11', 'volume': 600}, {'location': 'H12', 'volume': 650}]\n"
     ]
    }
   ],
   "source": [
    "import opentrons.execute\n",
    "from opentrons import protocol_api\n",
    "import pandas as pd\n",
    "\n",
    "def setup():\n",
    "    xl_data = pd.read_excel(\"OT2_test_data.xlsx\", engine=\"openpyxl\")\n",
    "    raw_instructions = xl_data.values.tolist()\n",
    "\n",
    "    def Command(sheet_data: list) -> dict:\n",
    "        'Expects [LETTER, index, volume]'\n",
    "        return {\n",
    "            \"location\": f\"{sheet_data[0]}{sheet_data[1]}\",\n",
    "            \"volume\": int(sheet_data[2])\n",
    "        }\n",
    "\n",
    "    instructions = list(map(Command, raw_instructions))\n",
    "    return instructions\n",
    "\n",
    "\n",
    "try:\n",
    "    instructions = setup()\n",
    "except FileNotFoundError:\n",
    "    print(\"Excel file not on OT2. Oh well!\")\n",
    "    \n",
    "#print(instructions)\n",
    "\n",
    "\n",
    "metadata = {\n",
    "    \"apiLevel\": \"2.15\",\n",
    "    \"protocolName\": \"Sequential distribution from excel test\",\n",
    "    \"author\": \"RexChem\"\n",
    "}\n",
    "\n",
    "#instructions = [{'location': 'A1', 'volume': 100}, {'location': 'A2', 'volume': 150}, {'location': 'A3', 'volume': 200}, {'location': 'A4', 'volume': 250}, {'location': 'A5', 'volume': 300}, {'location': 'A6', 'volume': 350}, {'location': 'A7', 'volume': 400}, {'location': 'A8', 'volume': 450}, {'location': 'A9', 'volume': 500}, {'location': 'A10', 'volume': 550}, {'location': 'A11', 'volume': 600}, {'location': 'A12', 'volume': 650}, {'location': 'B1', 'volume': 100}, {'location': 'B2', 'volume': 150}, {'location': 'B3', 'volume': 200}, {'location': 'B4', 'volume': 250}, {'location': 'B5', 'volume': 300}, {'location': 'B6', 'volume': 350}, {'location': 'B7', 'volume': 400}, {'location': 'B8', 'volume': 450}, {'location': 'B9', 'volume': 500}, {'location': 'B10', 'volume': 550}, {'location': 'B11', 'volume': 600}, {'location': 'B12', 'volume': 650}, {'location': 'C1', 'volume': 100}, {'location': 'C2', 'volume': 150}, {'location': 'C3', 'volume': 200}, {'location': 'C4', 'volume': 250}, {'location': 'C5', 'volume': 300}, {'location': 'C6', 'volume': 350}, {'location': 'C7', 'volume': 400}, {'location': 'C8', 'volume': 450}, {'location': 'C9', 'volume': 500}, {'location': 'C10', 'volume': 550}, {'location': 'C11', 'volume': 600}, {'location': 'C12', 'volume': 650}, {'location': 'D1', 'volume': 100}, {'location': 'D2', 'volume': 150}, {'location': 'D3', 'volume': 200}, {'location': 'D4', 'volume': 250}, {'location': 'D5', 'volume': 300}, {'location': 'D6', 'volume': 350}, {'location': 'D7', 'volume': 400}, {'location': 'D8', 'volume': 450}, {'location': 'D9', 'volume': 500}, {'location': 'D10', 'volume': 550}, {'location': 'D11', 'volume': 600}, {'location': 'D12', 'volume': 650}, {'location': 'E1', 'volume': 100}, {'location': 'E2', 'volume': 150}, {'location': 'E3', 'volume': 200}, {'location': 'E4', 'volume': 250}, {'location': 'E5', 'volume': 300}, {'location': 'E6', 'volume': 350}, {'location': 'E7', 'volume': 400}, {'location': 'E8', 'volume': 450}, {'location': 'E9', 'volume': 500}, {'location': 'E10', 'volume': 550}, {'location': 'E11', 'volume': 600}, {'location': 'E12', 'volume': 650}, {'location': 'F1', 'volume': 100}, {'location': 'F2', 'volume': 150}, {'location': 'F3', 'volume': 200}, {'location': 'F4', 'volume': 250}, {'location': 'F5', 'volume': 300}, {'location': 'F6', 'volume': 350}, {'location': 'F7', 'volume': 400}, {'location': 'F8', 'volume': 450}, {'location': 'F9', 'volume': 500}, {'location': 'F10', 'volume': 550}, {'location': 'F11', 'volume': 600}, {'location': 'F12', 'volume': 650}, {'location': 'G1', 'volume': 100}, {'location': 'G2', 'volume': 150}, {'location': 'G3', 'volume': 200}, {'location': 'G4', 'volume': 250}, {'location': 'G5', 'volume': 300}, {'location': 'G6', 'volume': 350}, {'location': 'G7', 'volume': 400}, {'location': 'G8', 'volume': 450}, {'location': 'G9', 'volume': 500}, {'location': 'G10', 'volume': 550}, {'location': 'G11', 'volume': 600}, {'location': 'G12', 'volume': 650}, {'location': 'H1', 'volume': 100}, {'location': 'H2', 'volume': 150}, {'location': 'H3', 'volume': 200}, {'location': 'H4', 'volume': 250}, {'location': 'H5', 'volume': 300}, {'location': 'H6', 'volume': 350}, {'location': 'H7', 'volume': 400}, {'location': 'H8', 'volume': 450}, {'location': 'H9', 'volume': 500}, {'location': 'H10', 'volume': 550}, {'location': 'H11', 'volume': 600}, {'location': 'H12', 'volume': 650}]\n",
    "\n",
    "def run(protocol: protocol_api.ProtocolContext):\n",
    "    # Labware setup\n",
    "    tips = protocol.load_labware('opentrons_96_tiprack_1000ul', 8)\n",
    "    reservoir = protocol.load_labware(\"rexchem_1_reservoir_225112.5ul\", 1)\n",
    "    plate = protocol.load_labware(\"plateone_96_wellplate_500ul\", 5)\n",
    "\n",
    "    left_pipette = protocol.load_instrument(\"p1000_single_gen2\", \"left\", tip_racks=[tips])\n",
    "\n",
    "    # Commands\n",
    "    left_pipette.pick_up_tip()\n",
    "    for job in instructions:\n",
    "        vol = job[\"volume\"]\n",
    "        if vol > 500:\n",
    "            vol = 500\n",
    "        left_pipette.transfer(vol, reservoir, plate[job[\"location\"]])\n",
    "\n"
   ]
  },
  {
   "cell_type": "code",
   "execution_count": null,
   "metadata": {},
   "outputs": [],
   "source": []
  },
  {
   "cell_type": "code",
   "execution_count": null,
   "metadata": {},
   "outputs": [],
   "source": []
  }
 ],
 "metadata": {
  "kernelspec": {
   "display_name": "Python 3",
   "language": "python",
   "name": "python3"
  }
 },
 "nbformat": 4,
 "nbformat_minor": 2
}
