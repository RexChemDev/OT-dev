{
 "cells": [
  {
   "cell_type": "code",
   "execution_count": null,
   "metadata": {},
   "outputs": [],
   "source": [
    "import sys\n",
    "import json\n",
    "from opentrons import protocol_api\n",
    "import helpers as h\n",
    "import opentrons.execute\n",
    "import time"
   ]
  },
  {
   "cell_type": "code",
   "execution_count": null,
   "metadata": {},
   "outputs": [],
   "source": [
    "print(\"Setup has initiated.\")\n",
    "protocol = opentrons.execute.get_protocol_api('2.12')\n",
    "print(\"Homing...\")\n",
    "start = time.time()\n",
    "protocol.home()\n",
    "end = time.time()\n",
    "print(f\"Homing done in {end - start:.2f} seconds.\")\n",
    "\n",
    "#worker = h.Worker(\"SSFL_data.xlsx\", last_letter=\"D\", last_number=6)\n",
    " \n",
    "# Labware setup\n",
    "tips_20 = h.loader('opentrons_96_filtertiprack_20ul', 11)\n",
    "\n",
    "tips_300 = h.loader(\"opentrons_96_tiprack_300ul\", 10)\n",
    "\n",
    "reservoir = h.loader(\"rexchem_1_reservoir_225112.5ul.json\", 7)\n",
    "\n",
    "plate1_top = h.loader(\"rexchem_tlc.json\", 4)\n",
    "plate1_bottom = h.loader(\"rexchem_tlc.json\", 1)\n",
    "\n",
    "plate2_top = h.loader(\"rexchem_tlc.json\", 5)\n",
    "plate2_bottom = h.loader(\"rexchem_tlc.json\", 2)\n",
    "\n",
    "plate3_top = h.loader(\"rexchem_tlc.json\", 6)\n",
    "plate3_bottom = h.loader(\"rexchem_tlc.json\", 3)\n",
    "\n",
    "\n",
    "p10 = protocol.load_instrument(\"p10_multi\", \"left\", tip_racks=[tips_20])\n",
    "p10.well_bottom_clearance.aspirate, p10.well_bottom_clearance.dispense = 3, 3\n",
    "p300 = protocol.load_instrument(\"p300_single_gen2\", \"right\", tip_racks=[tips_300])\n",
    "p300.well_bottom_clearance.aspirate, p300.well_bottom_clearance.dispense = 3, 3\n",
    "\n",
    "print(\"Setup is done.\")\n",
    "#active.transfer(vol, reservoir[\"A1\"], plate[job[\"location\"]], new_tip=\"never\", blow_out=True)\n"
   ]
  },
  {
   "cell_type": "code",
   "execution_count": null,
   "metadata": {
    "scrolled": true
   },
   "outputs": [],
   "source": [
    "from IPython import embed\n",
    "\n",
    "embed()"
   ]
  },
  {
   "cell_type": "code",
   "execution_count": null,
   "metadata": {},
   "outputs": [],
   "source": []
  }
 ],
 "metadata": {
  "kernelspec": {
   "display_name": "Python 3",
   "language": "python",
   "name": "python3"
  },
  "language_info": {
   "codemirror_mode": {
    "name": "ipython",
    "version": 3
   },
   "file_extension": ".py",
   "mimetype": "text/x-python",
   "name": "python",
   "nbconvert_exporter": "python",
   "pygments_lexer": "ipython3",
   "version": "3.7.1"
  }
 },
 "nbformat": 4,
 "nbformat_minor": 2
}
