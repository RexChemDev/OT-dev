{
 "cells": [
  {
   "cell_type": "code",
   "execution_count": 1,
   "metadata": {},
   "outputs": [
    {
     "name": "stderr",
     "output_type": "stream",
     "text": [
      "/var/user-packages/usr/lib/python3.7/site-packages/urllib3/__init__.py:38: NotOpenSSLWarning: urllib3 v2.0 only supports OpenSSL 1.1.1+, currently the 'ssl' module is compiled with 'LibreSSL 2.7.4'. See: https://github.com/urllib3/urllib3/issues/3020\n",
      "  exceptions.NotOpenSSLWarning,\n"
     ]
    },
    {
     "name": "stdout",
     "output_type": "stream",
     "text": [
      "Helper initialized in 0.00 seconds.\n"
     ]
    }
   ],
   "source": [
    "import sys\n",
    "import json\n",
    "from opentrons import protocol_api\n",
    "import helpers as h\n",
    "import opentrons.execute\n",
    "import time"
   ]
  },
  {
   "cell_type": "code",
   "execution_count": 34,
   "metadata": {},
   "outputs": [
    {
     "name": "stdout",
     "output_type": "stream",
     "text": [
      "Setup has initiated.\n",
      "Clearing all objects from deck.\n",
      "Homing...\n",
      "Homing done in 20.18 seconds.\n",
      "\u001b[92m[opentrons_96_filtertiprack_20ul] @ 11: 0.0 1.1000000000002501 -0.20000000000000284\u001b[0m\n",
      "\u001b[93m[rexchem_1_reservoir_225112.5ul] @ 7: No offset data\u001b[0m\n",
      "\u001b[93m[rexchem_tlc] @ 4: No offset data\u001b[0m\n",
      "\u001b[93m[rexchem_tlc] @ 1: No offset data\u001b[0m\n",
      "\u001b[93m[rexchem_tlc] @ 5: No offset data\u001b[0m\n",
      "\u001b[93m[rexchem_tlc] @ 2: No offset data\u001b[0m\n",
      "\u001b[93m[rexchem_tlc] @ 6: No offset data\u001b[0m\n",
      "\u001b[93m[rexchem_tlc] @ 3: No offset data\u001b[0m\n",
      "Setup is done.\n"
     ]
    }
   ],
   "source": [
    "print(\"Setup has initiated.\")\n",
    "protocol = opentrons.execute.get_protocol_api('2.12')\n",
    "l = h.Loader(protocol)\n",
    "l.wipe_deck()\n",
    "print(\"Homing...\")\n",
    "start = time.time()\n",
    "protocol.home()\n",
    "end = time.time()\n",
    "print(f\"Homing done in {end - start:.2f} seconds.\")\n",
    "\n",
    "#worker = h.Worker(\"SSFL_data.xlsx\", last_letter=\"D\", last_number=6)\n",
    " \n",
    "# Labware setup\n",
    "tips_20 = l.load('opentrons_96_filtertiprack_20ul', 11)\n",
    "\n",
    "#tips_300 = l.load(\"opentrons_96_tiprack_300ul\", 10)\n",
    "\n",
    "reservoir = l.load(\"rexchem_1_reservoir_225112.5ul.json\", 7)\n",
    "\n",
    "plate1_top = l.load(\"rexchem_tlc.json\", 4)\n",
    "plate1_bottom = l.load(\"rexchem_tlc.json\", 1)\n",
    "\n",
    "plate2_top = l.load(\"rexchem_tlc.json\", 5)\n",
    "plate2_bottom = l.load(\"rexchem_tlc.json\", 2)\n",
    "\n",
    "plate3_top = l.load(\"rexchem_tlc.json\", 6)\n",
    "plate3_bottom = l.load(\"rexchem_tlc.json\", 3)\n",
    "\n",
    "\n",
    "#p10 = protocol.load_instrument(\"p10_multi\", \"left\", tip_racks=[tips_20])\n",
    "#p10.well_bottom_clearance.aspirate, p10.well_bottom_clearance.dispense = 3, 3\n",
    "p20 = protocol.load_instrument(\"p20_single_gen2\", \"right\", tip_racks=[tips_20])\n",
    "p20.well_bottom_clearance.aspirate, p20.well_bottom_clearance.dispense = 3, -1\n",
    "if p20.has_tip:\n",
    "    print(\"Tip detected, dropping...\")\n",
    "    p20.drop_tip()\n",
    "\n",
    "print(\"Setup is done.\")\n",
    "#active.transfer(vol, reservoir[\"A1\"], plate[job[\"location\"]], new_tip=\"never\", blow_out=True)\n"
   ]
  },
  {
   "cell_type": "code",
   "execution_count": 33,
   "metadata": {},
   "outputs": [
    {
     "ename": "TypeError",
     "evalue": "center() got an unexpected keyword argument 'x'",
     "output_type": "error",
     "traceback": [
      "\u001b[0;31m---------------------------------------------------------------------------\u001b[0m",
      "\u001b[0;31mTypeError\u001b[0m                                 Traceback (most recent call last)",
      "\u001b[0;32m<ipython-input-33-d989cd46ba4d>\u001b[0m in \u001b[0;36m<module>\u001b[0;34m()\u001b[0m\n\u001b[1;32m      2\u001b[0m \u001b[0;31m#p20.transfer(2, reservoir[\"A1\"], plate1_top.columns(), new_tip=\"never\")\u001b[0m\u001b[0;34m\u001b[0m\u001b[0;34m\u001b[0m\u001b[0;34m\u001b[0m\u001b[0m\n\u001b[1;32m      3\u001b[0m \u001b[0;31m#p20.transfer(2, reservoir[\"A1\"], plate1_bottom.columns(), new_tip=\"never\")\u001b[0m\u001b[0;34m\u001b[0m\u001b[0;34m\u001b[0m\u001b[0;34m\u001b[0m\u001b[0m\n\u001b[0;32m----> 4\u001b[0;31m \u001b[0mp20\u001b[0m\u001b[0;34m.\u001b[0m\u001b[0mtransfer\u001b[0m\u001b[0;34m(\u001b[0m\u001b[0;36m2\u001b[0m\u001b[0;34m,\u001b[0m \u001b[0mreservoir\u001b[0m\u001b[0;34m[\u001b[0m\u001b[0;34m\"A1\"\u001b[0m\u001b[0;34m]\u001b[0m\u001b[0;34m,\u001b[0m \u001b[0mplate1_top\u001b[0m\u001b[0;34m[\u001b[0m\u001b[0;34m\"H1\"\u001b[0m\u001b[0;34m]\u001b[0m\u001b[0;34m.\u001b[0m\u001b[0mcenter\u001b[0m\u001b[0;34m(\u001b[0m\u001b[0mx\u001b[0m\u001b[0;34m=\u001b[0m\u001b[0;36m5\u001b[0m\u001b[0;34m)\u001b[0m\u001b[0;34m,\u001b[0m \u001b[0mnew_tip\u001b[0m\u001b[0;34m=\u001b[0m\u001b[0;34m\"never\"\u001b[0m\u001b[0;34m)\u001b[0m\u001b[0;34m\u001b[0m\u001b[0;34m\u001b[0m\u001b[0m\n\u001b[0m\u001b[1;32m      5\u001b[0m \u001b[0;34m\u001b[0m\u001b[0m\n\u001b[1;32m      6\u001b[0m \u001b[0mp20\u001b[0m\u001b[0;34m.\u001b[0m\u001b[0mdrop_tip\u001b[0m\u001b[0;34m(\u001b[0m\u001b[0mtips_20\u001b[0m\u001b[0;34m[\u001b[0m\u001b[0;34m\"A1\"\u001b[0m\u001b[0;34m]\u001b[0m\u001b[0;34m)\u001b[0m\u001b[0;34m\u001b[0m\u001b[0;34m\u001b[0m\u001b[0m\n",
      "\u001b[0;32m/usr/lib/python3.7/site-packages/opentrons/protocols/api_support/util.pyc\u001b[0m in \u001b[0;36m_check_version_wrapper\u001b[0;34m(*args, **kwargs)\u001b[0m\n",
      "\u001b[0;31mTypeError\u001b[0m: center() got an unexpected keyword argument 'x'"
     ]
    }
   ],
   "source": [
    "p20.pick_up_tip()\n",
    "#p20.transfer(2, reservoir[\"A1\"], plate1_top.columns(), new_tip=\"never\")\n",
    "#p20.transfer(2, reservoir[\"A1\"], plate1_bottom.columns(), new_tip=\"never\")\n",
    "p20.transfer(2, reservoir[\"A1\"], plate1_top[\"H1\"].center(x=5), new_tip=\"never\")\n",
    "\n",
    "p20.drop_tip(tips_20[\"A1\"])"
   ]
  },
  {
   "cell_type": "code",
   "execution_count": null,
   "metadata": {},
   "outputs": [],
   "source": []
  }
 ],
 "metadata": {
  "kernelspec": {
   "display_name": "Python 3",
   "language": "python",
   "name": "python3"
  },
  "language_info": {
   "codemirror_mode": {
    "name": "ipython",
    "version": 3
   },
   "file_extension": ".py",
   "mimetype": "text/x-python",
   "name": "python",
   "nbconvert_exporter": "python",
   "pygments_lexer": "ipython3",
   "version": "3.7.1"
  }
 },
 "nbformat": 4,
 "nbformat_minor": 2
}
