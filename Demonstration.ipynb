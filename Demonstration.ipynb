{
 "cells": [
  {
   "cell_type": "code",
   "execution_count": 1,
   "metadata": {},
   "outputs": [
    {
     "name": "stderr",
     "output_type": "stream",
     "text": [
      "/var/user-packages/usr/lib/python3.7/site-packages/urllib3/__init__.py:38: NotOpenSSLWarning: urllib3 v2.0 only supports OpenSSL 1.1.1+, currently the 'ssl' module is compiled with 'LibreSSL 2.7.4'. See: https://github.com/urllib3/urllib3/issues/3020\n",
      "  exceptions.NotOpenSSLWarning,\n"
     ]
    },
    {
     "name": "stdout",
     "output_type": "stream",
     "text": [
      "Helper initialized in 0.00 seconds.\n"
     ]
    }
   ],
   "source": [
    "import sys\n",
    "import json\n",
    "from opentrons import protocol_api\n",
    "from opentrons.types import Point\n",
    "import helpers as h\n",
    "import opentrons.execute\n",
    "import time"
   ]
  },
  {
   "cell_type": "code",
   "execution_count": 2,
   "metadata": {},
   "outputs": [
    {
     "name": "stdout",
     "output_type": "stream",
     "text": [
      "Reading spreadsheet data...\n",
      "Finished reading spreadsheet.\n",
      "[('A1', 6000), ('A2', 5750), ('A3', 5500), ('A4', 5250), ('A5', 5000), ('A6', 4750), ('B1', 4500), ('B2', 4250), ('B3', 4000), ('B4', 3750), ('B5', 3500), ('B6', 3250), ('C1', 3000), ('C2', 2750), ('C3', 2500), ('C4', 2250), ('C5', 2000), ('C6', 1750), ('D1', 1500), ('D2', 1250), ('D3', 1000), ('D4', 750), ('D5', 500), ('D6', 250)]\n"
     ]
    }
   ],
   "source": [
    "commands = h.pullexcel(\"format_test.xlsx\")\n",
    "print(commands)\n"
   ]
  },
  {
   "cell_type": "code",
   "execution_count": null,
   "metadata": {
    "scrolled": true
   },
   "outputs": [],
   "source": [
    "print(\"Setup has initiated.\")\n",
    "protocol = opentrons.execute.get_protocol_api('2.12')\n",
    "l = h.Loader(protocol)\n",
    "l.wipe_deck()\n",
    "print(\"Homing...\")\n",
    "start = time.time()\n",
    "protocol.home()\n",
    "end = time.time()\n",
    "print(f\"Homing done in {end - start:.2f} seconds.\")\n",
    "\n",
    "#worker = h.Worker(\"format_test.xlsx\", vol_col=1, last_letter=\"D\", last_number=6)\n",
    "commands = h.pullexcel(\"format_test.xlsx\")\n",
    "print(commands)\n"
   ]
  },
  {
   "cell_type": "code",
   "execution_count": null,
   "metadata": {},
   "outputs": [],
   "source": [
    "# Labware setup\n",
    "tips_1000 = l.load('opentrons_96_filtertiprack_1000ul', 11)\n",
    "\n",
    "tips_300 = l.load(\"opentrons_96_tiprack_300ul\", 10)\n",
    "\n",
    "reservoir = l.load(\"rexchem_1_reservoir_225112.5ul.json\", 4)\n",
    "\n",
    "tubes = l.load(\"bohden_24_long.json\", 5)\n",
    "\n",
    "\n",
    "p300 = protocol.load_instrument(\"p300_single\", \"left\", tip_racks=[tips_300])\n",
    "p300.well_bottom_clearance.aspirate, p300.well_bottom_clearance.dispense = 2, 2\n",
    "p300.default_speed = 200\n",
    "\n",
    "p1000 = protocol.load_instrument(\"p1000_single_gen2\", \"right\", tip_racks=[tips_1000])\n",
    "p1000.well_bottom_clearance.aspirate, p1000.well_bottom_clearance.dispense = 2, 2\n",
    "p1000.default_speed = 200\n",
    "\n",
    "#if p20.has_tip:\n",
    "#    print(\"Tip detected, dropping...\")\n",
    "#    p20.drop_tip()\n",
    "\n",
    "print(\"Setup is done.\")\n",
    "#active.transfer(vol, reservoir[\"A1\"], plate[job[\"location\"]], new_tip=\"never\", blow_out=True)\n"
   ]
  },
  {
   "cell_type": "code",
   "execution_count": null,
   "metadata": {},
   "outputs": [],
   "source": [
    "# Command time\n",
    "p300.drop_tip()\n",
    "p1000.drop_tip()\n",
    "\n",
    "p300.pick_up_tip()\n",
    "p1000.pick_up_tip()\n",
    "\n",
    "for entry in commands:\n",
    "    loc, vol = entry\n",
    "    active = p300\n",
    "    if vol > 300:\n",
    "        active = p1000\n",
    "    print(f\"Transferring {vol}uL to {loc} using {active.name}.\")\n",
    "    active.transfer(vol, reservoir[\"A1\"], tubes[loc], new_tip=\"never\")\n",
    "\n",
    "p300.drop_tip(tips_300[\"A1\"])\n",
    "p1000.drop_tip(tips_1000[\"A1\"])\n",
    "protocol.home()"
   ]
  }
 ],
 "metadata": {
  "kernelspec": {
   "display_name": "Python 3",
   "language": "python",
   "name": "python3"
  },
  "language_info": {
   "codemirror_mode": {
    "name": "ipython",
    "version": 3
   },
   "file_extension": ".py",
   "mimetype": "text/x-python",
   "name": "python",
   "nbconvert_exporter": "python",
   "pygments_lexer": "ipython3",
   "version": "3.7.1"
  }
 },
 "nbformat": 4,
 "nbformat_minor": 2
}
