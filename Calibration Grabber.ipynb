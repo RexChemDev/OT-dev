{
 "cells": [
  {
   "cell_type": "code",
   "execution_count": null,
   "metadata": {},
   "outputs": [],
   "source": [
    "import requests\n",
    "from pprint import pprint"
   ]
  },
  {
   "cell_type": "code",
   "execution_count": null,
   "metadata": {},
   "outputs": [],
   "source": [
    "def pulloffsets():\n",
    "    \"Gets all labware offsets from the json data pulled from [IP]:31950/runs.\"\n",
    "    s = requests.Session()\n",
    "    s.headers.update({\"Opentrons-Version\": \"2\"})\n",
    "    api_url = \"http://127.0.0.1:31950/runs\"\n",
    "    run_history = s.get(api_url).json()\n",
    "    \n",
    "    out = {}\n",
    "    for run in run_history[\"data\"]:\n",
    "        for labware in run[\"labwareOffsets\"]:\n",
    "            name = labware[\"definitionUri\"].split(\"/\")[1]\n",
    "            location = labware[\"location\"][\"slotName\"]\n",
    "            offsets = labware[\"vector\"]\n",
    "            out[name] = {location: offsets}\n",
    "    return out\n",
    "        \n",
    "\n",
    "\n",
    "x = pulloffsets()\n",
    "pprint(x)"
   ]
  },
  {
   "cell_type": "code",
   "execution_count": 1,
   "metadata": {},
   "outputs": [
    {
     "name": "stderr",
     "output_type": "stream",
     "text": [
      "/var/user-packages/usr/lib/python3.7/site-packages/urllib3/__init__.py:38: NotOpenSSLWarning: urllib3 v2.0 only supports OpenSSL 1.1.1+, currently the 'ssl' module is compiled with 'LibreSSL 2.7.4'. See: https://github.com/urllib3/urllib3/issues/3020\n",
      "  exceptions.NotOpenSSLWarning,\n"
     ]
    },
    {
     "name": "stdout",
     "output_type": "stream",
     "text": [
      "Helper initialized in 0.00 seconds.\n",
      "{'opentrons_96_filtertiprack_20ul': {'11': {'x': 0.0, 'y': 1.1000000000002501, 'z': -0.20000000000000284}}, 'plateone_96_wellplate_500ul': {'1': {'x': 0.9000000000000004, 'y': 0.29999999999998295, 'z': 0.0}}}\n"
     ]
    }
   ],
   "source": [
    "import helpers as h\n",
    "\n",
    "x = h.pulloffsets()\n",
    "print(x)"
   ]
  },
  {
   "cell_type": "code",
   "execution_count": null,
   "metadata": {},
   "outputs": [],
   "source": []
  }
 ],
 "metadata": {
  "kernelspec": {
   "display_name": "Python 3",
   "language": "python",
   "name": "python3"
  },
  "language_info": {
   "codemirror_mode": {
    "name": "ipython",
    "version": 3
   },
   "file_extension": ".py",
   "mimetype": "text/x-python",
   "name": "python",
   "nbconvert_exporter": "python",
   "pygments_lexer": "ipython3",
   "version": "3.7.1"
  }
 },
 "nbformat": 4,
 "nbformat_minor": 2
}
