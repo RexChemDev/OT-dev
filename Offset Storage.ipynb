{
 "cells": [
  {
   "cell_type": "code",
   "execution_count": 13,
   "metadata": {},
   "outputs": [],
   "source": [
    "offsets = {\n",
    "    \"opentrons_96_tiprack_1000ul\": {\n",
    "        8: (-1.10, 1.4, -0.5),\n",
    "    },\n",
    "    \"opentrons_96_filtertiprack_20ul\": {\n",
    "        11: (0.5, 0.6, -0.7),\n",
    "    },\n",
    "    \"rexchem_1_reservoir_225112.5ul\": {\n",
    "        1: (0, 0, 1.5),\n",
    "    },\n",
    "}\n",
    "\n",
    "offsets[\"opentrons_96_filtertiprack_10ul\"] = offsets[\"opentrons_96_filtertiprack_20ul\"]\n"
   ]
  },
  {
   "cell_type": "code",
   "execution_count": 14,
   "metadata": {},
   "outputs": [],
   "source": [
    "import json\n",
    "with open(\"offsets.json\", \"w\") as f:\n",
    "    json.dump(offsets, f)"
   ]
  },
  {
   "cell_type": "code",
   "execution_count": null,
   "metadata": {},
   "outputs": [],
   "source": []
  }
 ],
 "metadata": {
  "kernelspec": {
   "display_name": "Python 3",
   "language": "python",
   "name": "python3"
  },
  "language_info": {
   "codemirror_mode": {
    "name": "ipython",
    "version": 3
   },
   "file_extension": ".py",
   "mimetype": "text/x-python",
   "name": "python",
   "nbconvert_exporter": "python",
   "pygments_lexer": "ipython3",
   "version": "3.7.1"
  }
 },
 "nbformat": 4,
 "nbformat_minor": 2
}
