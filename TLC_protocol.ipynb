{
 "cells": [
  {
   "cell_type": "code",
   "execution_count": 1,
   "metadata": {},
   "outputs": [],
   "source": [
    "import sys\n",
    "import json\n",
    "from opentrons import protocol_api\n",
    "import helpers as h\n",
    "import opentrons.execute"
   ]
  },
  {
   "cell_type": "code",
   "execution_count": 2,
   "metadata": {},
   "outputs": [],
   "source": [
    "def run1(protocol: protocol_api.ProtocolContext):\n",
    "    print(\"Script has initiated.\")\n",
    "    #worker = h.Worker(\"SSFL_data.xlsx\", last_letter=\"D\", last_number=6)\n",
    "    # Labware setup\n",
    "    tips_1000 = protocol.load_labware('opentrons_96_tiprack_1000ul', 8)\n",
    "    tips_1000.set_offset(x=-1.10, y=1.40, z=-0.50)\n",
    "\n",
    "    tips_300 = protocol.load_labware(\"opentrons_96_tiprack_300ul\", 7)\n",
    "    tips_300.set_offset(x=0, y=-0.4, z=0)\n",
    "\n",
    "    reservoir = h.custom_labware(\"rexchem_1_reservoir_225112.5ul.json\", 1)\n",
    "\n",
    "    plate = h.custom_labware(\"plateone_96_wellplate_500ul.json\", 6)\n",
    "    plate.set_offset(x=0.30, y=0.70, z=-0.60)\n",
    "\n",
    "    p1000 = protocol.load_instrument(\"p10_multi\", \"left\", tip_racks=[tips_1000])\n",
    "    p300 = protocol.load_instrument(\"p300_single_gen2\", \"right\", tip_racks=[tips_300])\n",
    "    \n",
    "        # Commands\n",
    "    #p1000.pick_up_tip()\n",
    "    #p300.pick_up_tip()\n",
    "    i = 0\n",
    "    for job in worker:\n",
    "        i += 1\n",
    "        print(f\"Job {i}:\")\n",
    "        vol = job[\"volume\"]\n",
    "        active = p300\n",
    "        if vol > 300:\n",
    "            active = p1000\n",
    "        #active.transfer(vol, reservoir[\"A1\"], plate[job[\"location\"]], new_tip=\"never\", blow_out=True)\n",
    "\n",
    "    #p1000.drop_tip()\n",
    "    #p300.drop_tip()\n"
   ]
  },
  {
   "cell_type": "code",
   "execution_count": 2,
   "metadata": {},
   "outputs": [],
   "source": [
    "def tiptest(protocol: protocol_api.ProtocolContext):\n",
    "    print(\"Test has started!\")\n",
    "    tips_300 = protocol.load_labware(\"opentrons_96_tiprack_300ul\", 8)\n",
    "    "
   ]
  },
  {
   "cell_type": "code",
   "execution_count": 3,
   "metadata": {},
   "outputs": [
    {
     "name": "stderr",
     "output_type": "stream",
     "text": [
      "Failed to initialize character device, will not be able to control gpios (lights, button, smoothiekill, smoothie reset). Only one connection can be made to the gpios at a time. If you need to control gpios, first stop the robot server with systemctl stop opentrons-robot-server. Until you restart the server with systemctl start opentrons-robot-server, you will be unable to control the robot using the Opentrons app.\n"
     ]
    },
    {
     "name": "stdout",
     "output_type": "stream",
     "text": [
      "Script has initiated.\n",
      "Reading spreadsheet data...\n",
      "Finished reading.\n",
      "WARNING: There are more compounds than plate positions.\n",
      "Command translation has stopped at index 24.\n"
     ]
    },
    {
     "ename": "RuntimeError",
     "evalue": "mount LEFT: instrument p1000_single was requested but p10_multi_v1.5 is present",
     "output_type": "error",
     "traceback": [
      "\u001b[0;31m---------------------------------------------------------------------------\u001b[0m",
      "\u001b[0;31mRuntimeError\u001b[0m                              Traceback (most recent call last)",
      "\u001b[0;32m<ipython-input-3-ec79078b25ec>\u001b[0m in \u001b[0;36m<module>\u001b[0;34m()\u001b[0m\n\u001b[1;32m      4\u001b[0m \u001b[0;34m\u001b[0m\u001b[0m\n\u001b[1;32m      5\u001b[0m \u001b[0;32mtry\u001b[0m\u001b[0;34m:\u001b[0m\u001b[0;34m\u001b[0m\u001b[0;34m\u001b[0m\u001b[0m\n\u001b[0;32m----> 6\u001b[0;31m     \u001b[0mrun\u001b[0m\u001b[0;34m(\u001b[0m\u001b[0mprotocol\u001b[0m\u001b[0;34m)\u001b[0m\u001b[0;34m\u001b[0m\u001b[0;34m\u001b[0m\u001b[0m\n\u001b[0m\u001b[1;32m      7\u001b[0m \u001b[0;32mexcept\u001b[0m \u001b[0mKeyboardInterrupt\u001b[0m\u001b[0;34m:\u001b[0m\u001b[0;34m\u001b[0m\u001b[0;34m\u001b[0m\u001b[0m\n\u001b[1;32m      8\u001b[0m     \u001b[0mprint\u001b[0m\u001b[0;34m(\u001b[0m\u001b[0;34m\"SHUTTING DOWN\"\u001b[0m\u001b[0;34m)\u001b[0m\u001b[0;34m\u001b[0m\u001b[0;34m\u001b[0m\u001b[0m\n",
      "\u001b[0;32m<ipython-input-2-e29e9fbad2d2>\u001b[0m in \u001b[0;36mrun\u001b[0;34m(protocol)\u001b[0m\n\u001b[1;32m     14\u001b[0m     \u001b[0mplate\u001b[0m\u001b[0;34m.\u001b[0m\u001b[0mset_offset\u001b[0m\u001b[0;34m(\u001b[0m\u001b[0mx\u001b[0m\u001b[0;34m=\u001b[0m\u001b[0;36m0.30\u001b[0m\u001b[0;34m,\u001b[0m \u001b[0my\u001b[0m\u001b[0;34m=\u001b[0m\u001b[0;36m0.70\u001b[0m\u001b[0;34m,\u001b[0m \u001b[0mz\u001b[0m\u001b[0;34m=\u001b[0m\u001b[0;34m-\u001b[0m\u001b[0;36m0.60\u001b[0m\u001b[0;34m)\u001b[0m\u001b[0;34m\u001b[0m\u001b[0;34m\u001b[0m\u001b[0m\n\u001b[1;32m     15\u001b[0m \u001b[0;34m\u001b[0m\u001b[0m\n\u001b[0;32m---> 16\u001b[0;31m     \u001b[0mp1000\u001b[0m \u001b[0;34m=\u001b[0m \u001b[0mprotocol\u001b[0m\u001b[0;34m.\u001b[0m\u001b[0mload_instrument\u001b[0m\u001b[0;34m(\u001b[0m\u001b[0;34m\"p1000_single\"\u001b[0m\u001b[0;34m,\u001b[0m \u001b[0;34m\"left\"\u001b[0m\u001b[0;34m,\u001b[0m \u001b[0mtip_racks\u001b[0m\u001b[0;34m=\u001b[0m\u001b[0;34m[\u001b[0m\u001b[0mtips_1000\u001b[0m\u001b[0;34m]\u001b[0m\u001b[0;34m)\u001b[0m\u001b[0;34m\u001b[0m\u001b[0;34m\u001b[0m\u001b[0m\n\u001b[0m\u001b[1;32m     17\u001b[0m     \u001b[0mp300\u001b[0m \u001b[0;34m=\u001b[0m \u001b[0mprotocol\u001b[0m\u001b[0;34m.\u001b[0m\u001b[0mload_instrument\u001b[0m\u001b[0;34m(\u001b[0m\u001b[0;34m\"p300_single_gen2\"\u001b[0m\u001b[0;34m,\u001b[0m \u001b[0;34m\"right\"\u001b[0m\u001b[0;34m,\u001b[0m \u001b[0mtip_racks\u001b[0m\u001b[0;34m=\u001b[0m\u001b[0;34m[\u001b[0m\u001b[0mtips_300\u001b[0m\u001b[0;34m]\u001b[0m\u001b[0;34m)\u001b[0m\u001b[0;34m\u001b[0m\u001b[0;34m\u001b[0m\u001b[0m\n\u001b[1;32m     18\u001b[0m \u001b[0;34m\u001b[0m\u001b[0m\n",
      "\u001b[0;32m/usr/lib/python3.7/site-packages/opentrons/protocols/api_support/util.pyc\u001b[0m in \u001b[0;36m_check_version_wrapper\u001b[0;34m(*args, **kwargs)\u001b[0m\n",
      "\u001b[0;32m/usr/lib/python3.7/site-packages/opentrons/protocol_api/protocol_context.pyc\u001b[0m in \u001b[0;36mload_instrument\u001b[0;34m(self, instrument_name, mount, tip_racks, replace)\u001b[0m\n",
      "\u001b[0;32m/usr/lib/python3.7/site-packages/opentrons/protocol_api/core/legacy/legacy_protocol_core.pyc\u001b[0m in \u001b[0;36mload_instrument\u001b[0;34m(self, instrument_name, mount)\u001b[0m\n",
      "\u001b[0;32m/usr/lib/python3.7/site-packages/opentrons/hardware_control/adapters.pyc\u001b[0m in \u001b[0;36mcall_coroutine_sync\u001b[0;34m(loop, to_call, *args, **kwargs)\u001b[0m\n",
      "\u001b[0;32m/usr/lib/python3.7/concurrent/futures/_base.pyc\u001b[0m in \u001b[0;36mresult\u001b[0;34m(self, timeout)\u001b[0m\n",
      "\u001b[0;32m/usr/lib/python3.7/concurrent/futures/_base.pyc\u001b[0m in \u001b[0;36m__get_result\u001b[0;34m(self)\u001b[0m\n",
      "\u001b[0;32m/usr/lib/python3.7/site-packages/opentrons/hardware_control/api.pyc\u001b[0m in \u001b[0;36mcache_instruments\u001b[0;34m(self, require)\u001b[0m\n",
      "\u001b[0;32m/usr/lib/python3.7/site-packages/opentrons/hardware_control/backends/controller.pyc\u001b[0m in \u001b[0;36mget_attached_instruments\u001b[0;34m(self, expected)\u001b[0m\n",
      "\u001b[0;32m/usr/lib/python3.7/site-packages/opentrons/hardware_control/backends/controller.pyc\u001b[0m in \u001b[0;36m<dictcomp>\u001b[0;34m(.0)\u001b[0m\n",
      "\u001b[0;32m/usr/lib/python3.7/site-packages/opentrons/hardware_control/backends/controller.pyc\u001b[0m in \u001b[0;36m_query_mount\u001b[0;34m(self, mount, expected)\u001b[0m\n",
      "\u001b[0;31mRuntimeError\u001b[0m: mount LEFT: instrument p1000_single was requested but p10_multi_v1.5 is present"
     ]
    }
   ],
   "source": [
    "protocol = None\n",
    "protocol = opentrons.execute.get_protocol_api('2.12')\n",
    "protocol.home()\n",
    "\n",
    "\n",
    "\n",
    "\"\"\"\n",
    "try:\n",
    "    run(protocol)\n",
    "except KeyboardInterrupt:\n",
    "    print(\"SHUTTING DOWN\")\n",
    "    protocol.home()\n",
    "    sys.exit(130)\n",
    "\"\"\""
   ]
  },
  {
   "cell_type": "code",
   "execution_count": null,
   "metadata": {},
   "outputs": [],
   "source": []
  }
 ],
 "metadata": {
  "kernelspec": {
   "display_name": "Python 3",
   "language": "python",
   "name": "python3"
  },
  "language_info": {
   "codemirror_mode": {
    "name": "ipython",
    "version": 3
   },
   "file_extension": ".py",
   "mimetype": "text/x-python",
   "name": "python",
   "nbconvert_exporter": "python",
   "pygments_lexer": "ipython3",
   "version": "3.7.1"
  }
 },
 "nbformat": 4,
 "nbformat_minor": 2
}
