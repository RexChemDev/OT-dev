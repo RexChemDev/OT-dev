{
 "cells": [
  {
   "cell_type": "code",
   "execution_count": 9,
   "metadata": {},
   "outputs": [
    {
     "name": "stdout",
     "output_type": "stream",
     "text": [
      "Listening on <socket.socket fd=56, family=AddressFamily.AF_INET, type=SocketKind.SOCK_STREAM, proto=0, laddr=('0.0.0.0', 65432)>...\n",
      "Connected by ('10.0.0.62', 3546)\n",
      "Closing.\n",
      "Listening on <socket.socket fd=56, family=AddressFamily.AF_INET, type=SocketKind.SOCK_STREAM, proto=0, laddr=('0.0.0.0', 65432)>...\n",
      "Connected by ('10.0.0.62', 3562)\n",
      "Closing.\n",
      "Breaking loop.\n"
     ]
    }
   ],
   "source": [
    "import socket\n",
    "import json\n",
    "\n",
    "def listen():\n",
    "    HOST = \"0.0.0.0\"  # Standard loopback interface address (localhost)\n",
    "    PORT = 65432  # Port to listen on (non-privileged ports are > 1023)\n",
    "\n",
    "    with socket.socket(socket.AF_INET, socket.SOCK_STREAM) as s:\n",
    "        s.bind((HOST, PORT))\n",
    "        print(f\"Listening on {s}...\")\n",
    "        s.listen()\n",
    "        conn, addr = s.accept()\n",
    "        with conn:\n",
    "            print(f\"Connected by {addr}\")\n",
    "            while True:\n",
    "                data = conn.recv(1024)\n",
    "                data = data.decode(\"utf-8\")\n",
    "                if not data:\n",
    "                    break\n",
    "                conn.sendall(b\"ACK\")\n",
    "                print(\"Closing.\")\n",
    "                return json.loads(data)\n",
    "\n",
    "commands = []\n",
    "while True:\n",
    "    data = listen()\n",
    "    if data == \"STOP\":\n",
    "        print(\"Breaking loop.\")\n",
    "        break\n",
    "    commands.append(data)"
   ]
  },
  {
   "cell_type": "code",
   "execution_count": 12,
   "metadata": {},
   "outputs": [
    {
     "name": "stdout",
     "output_type": "stream",
     "text": [
      "{'command': 'trans', 'vol': 5, 'src': ['RexWell', 'A1'], 'dst': ['RexTLC', 'A1']}\n",
      "{'command': 'trans', 'vol': 5, 'src': ['RexWell', 'A1'], 'dst': ['RexTLC', 'A2']}\n",
      "STOP\n"
     ]
    }
   ],
   "source": [
    "for item in commands:\n",
    "    for x in item:\n",
    "        print(x)"
   ]
  },
  {
   "cell_type": "code",
   "execution_count": null,
   "metadata": {},
   "outputs": [],
   "source": []
  }
 ],
 "metadata": {
  "kernelspec": {
   "display_name": "Python 3",
   "language": "python",
   "name": "python3"
  },
  "language_info": {
   "codemirror_mode": {
    "name": "ipython",
    "version": 3
   },
   "file_extension": ".py",
   "mimetype": "text/x-python",
   "name": "python",
   "nbconvert_exporter": "python",
   "pygments_lexer": "ipython3",
   "version": "3.7.1"
  }
 },
 "nbformat": 4,
 "nbformat_minor": 2
}
