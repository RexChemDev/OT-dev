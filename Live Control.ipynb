{
 "cells": [
  {
   "cell_type": "code",
   "execution_count": 1,
   "metadata": {},
   "outputs": [
    {
     "name": "stderr",
     "output_type": "stream",
     "text": [
      "Failed to initialize character device, will not be able to control gpios (lights, button, smoothiekill, smoothie reset). Only one connection can be made to the gpios at a time. If you need to control gpios, first stop the robot server with systemctl stop opentrons-robot-server. Until you restart the server with systemctl start opentrons-robot-server, you will be unable to control the robot using the Opentrons app.\n"
     ]
    },
    {
     "name": "stdout",
     "output_type": "stream",
     "text": [
      "Helper initialized in 5.79 seconds.\n"
     ]
    }
   ],
   "source": [
    "import sys\n",
    "import json\n",
    "from opentrons import protocol_api\n",
    "import helpers as h\n",
    "import opentrons.execute\n",
    "import time"
   ]
  },
  {
   "cell_type": "code",
   "execution_count": 2,
   "metadata": {},
   "outputs": [
    {
     "name": "stdout",
     "output_type": "stream",
     "text": [
      "Setup has initiated.\n",
      "Homing...\n",
      "Homing done in 17.15 seconds.\n",
      "\u001b[92m[opentrons_96_filtertiprack_20ul] @ 11: 0.5 0.6 -0.7\u001b[0m\n",
      "\u001b[93m[opentrons_96_tiprack_300ul] @ 10: No offset data\u001b[0m\n",
      "\u001b[93m[rexchem_1_reservoir_225112.5ul] @ 7: No offset data\u001b[0m\n",
      "\u001b[93m[rexchem_tlc] @ 4: No offset data\u001b[0m\n",
      "\u001b[93m[rexchem_tlc] @ 1: No offset data\u001b[0m\n",
      "\u001b[93m[rexchem_tlc] @ 5: No offset data\u001b[0m\n",
      "\u001b[93m[rexchem_tlc] @ 2: No offset data\u001b[0m\n",
      "\u001b[93m[rexchem_tlc] @ 6: No offset data\u001b[0m\n",
      "\u001b[93m[rexchem_tlc] @ 3: No offset data\u001b[0m\n",
      "Setup is done.\n"
     ]
    }
   ],
   "source": [
    "print(\"Setup has initiated.\")\n",
    "protocol = opentrons.execute.get_protocol_api('2.12')\n",
    "print(\"Homing...\")\n",
    "start = time.time()\n",
    "protocol.home()\n",
    "end = time.time()\n",
    "print(f\"Homing done in {end - start:.2f} seconds.\")\n",
    "\n",
    "#worker = h.Worker(\"SSFL_data.xlsx\", last_letter=\"D\", last_number=6)\n",
    " \n",
    "# Labware setup\n",
    "tips_20 = h.loader('opentrons_96_filtertiprack_20ul', 11)\n",
    "\n",
    "tips_300 = h.loader(\"opentrons_96_tiprack_300ul\", 10)\n",
    "\n",
    "reservoir = h.loader(\"rexchem_1_reservoir_225112.5ul.json\", 7)\n",
    "\n",
    "plate1_top = h.loader(\"rexchem_tlc.json\", 4)\n",
    "plate1_bottom = h.loader(\"rexchem_tlc.json\", 1)\n",
    "\n",
    "plate2_top = h.loader(\"rexchem_tlc.json\", 5)\n",
    "plate2_bottom = h.loader(\"rexchem_tlc.json\", 2)\n",
    "\n",
    "plate3_top = h.loader(\"rexchem_tlc.json\", 6)\n",
    "plate3_bottom = h.loader(\"rexchem_tlc.json\", 3)\n",
    "\n",
    "\n",
    "p10 = protocol.load_instrument(\"p10_multi\", \"left\", tip_racks=[tips_20])\n",
    "p10.well_bottom_clearance.aspirate, p10.well_bottom_clearance.dispense = 3, 3\n",
    "p300 = protocol.load_instrument(\"p300_single_gen2\", \"right\", tip_racks=[tips_300])\n",
    "p300.well_bottom_clearance.aspirate, p300.well_bottom_clearance.dispense = 3, 3\n",
    "\n",
    "print(\"Setup is done.\")\n",
    "#active.transfer(vol, reservoir[\"A1\"], plate[job[\"location\"]], new_tip=\"never\", blow_out=True)\n"
   ]
  },
  {
   "cell_type": "code",
   "execution_count": 3,
   "metadata": {
    "scrolled": true
   },
   "outputs": [
    {
     "name": "stdout",
     "output_type": "stream",
     "text": [
      "Python 3.7.1 (default, Nov  6 2023, 21:20:37) \n",
      "Type \"copyright\", \"credits\" or \"license\" for more information.\n",
      "\n",
      "IPython 5.8.0 -- An enhanced Interactive Python.\n",
      "?         -> Introduction and overview of IPython's features.\n",
      "%quickref -> Quick reference.\n",
      "help      -> Python's own help system.\n",
      "object?   -> Details about 'object', use 'object??' for extra details.\n",
      "\n",
      "In [1]: p300.pick_up_tip()\n",
      "Out[1]: <InstrumentContext: p300_single_v2.0 in RIGHT>\n",
      "\n",
      "In [2]: p300.aspirate(2, reservoir[\"A1\"])\n",
      "Out[2]: <InstrumentContext: p300_single_v2.0 in RIGHT>\n",
      "\n",
      "In [3]: p300.dispense(2, plate1_top[\"A1\"], rate=0.5, push_out=5)\n",
      "\u001b[0;31m---------------------------------------------------------------------------\u001b[0m\n",
      "\u001b[0;31mAPIVersionError\u001b[0m                           Traceback (most recent call last)\n",
      "\u001b[0;32m<ipython-input-3-21962304ec4a>\u001b[0m in \u001b[0;36m<module>\u001b[0;34m()\u001b[0m\n",
      "\u001b[0;32m----> 1\u001b[0;31m \u001b[0mp300\u001b[0m\u001b[0;34m.\u001b[0m\u001b[0mdispense\u001b[0m\u001b[0;34m(\u001b[0m\u001b[0;36m2\u001b[0m\u001b[0;34m,\u001b[0m \u001b[0mplate1_top\u001b[0m\u001b[0;34m[\u001b[0m\u001b[0;34m\"A1\"\u001b[0m\u001b[0;34m]\u001b[0m\u001b[0;34m,\u001b[0m \u001b[0mrate\u001b[0m\u001b[0;34m=\u001b[0m\u001b[0;36m0.5\u001b[0m\u001b[0;34m,\u001b[0m \u001b[0mpush_out\u001b[0m\u001b[0;34m=\u001b[0m\u001b[0;36m5\u001b[0m\u001b[0;34m)\u001b[0m\u001b[0;34m\u001b[0m\u001b[0;34m\u001b[0m\u001b[0m\n",
      "\u001b[0m\n",
      "\u001b[0;32m/usr/lib/python3.7/site-packages/opentrons/protocols/api_support/util.pyc\u001b[0m in \u001b[0;36m_check_version_wrapper\u001b[0;34m(*args, **kwargs)\u001b[0m\n",
      "\n",
      "\u001b[0;32m/usr/lib/python3.7/site-packages/opentrons/protocol_api/instrument_context.pyc\u001b[0m in \u001b[0;36mdispense\u001b[0;34m(self, volume, location, rate, push_out)\u001b[0m\n",
      "\n",
      "\u001b[0;31mAPIVersionError\u001b[0m: Unsupported parameter push_out. Change your API version to 2.15 or above to use this parameter.\n",
      "\n",
      "In [4]: p300.dispense(2, plate1_top[\"A1\"], rate=0.5)\n",
      "Out[4]: <InstrumentContext: p300_single_v2.0 in RIGHT>\n",
      "\n",
      "In [5]: p300.blowout()\n",
      "\u001b[0;31m---------------------------------------------------------------------------\u001b[0m\n",
      "\u001b[0;31mAttributeError\u001b[0m                            Traceback (most recent call last)\n",
      "\u001b[0;32m<ipython-input-5-260d944c952e>\u001b[0m in \u001b[0;36m<module>\u001b[0;34m()\u001b[0m\n",
      "\u001b[0;32m----> 1\u001b[0;31m \u001b[0mp300\u001b[0m\u001b[0;34m.\u001b[0m\u001b[0mblowout\u001b[0m\u001b[0;34m(\u001b[0m\u001b[0;34m)\u001b[0m\u001b[0;34m\u001b[0m\u001b[0;34m\u001b[0m\u001b[0m\n",
      "\u001b[0m\n",
      "\u001b[0;31mAttributeError\u001b[0m: 'InstrumentContext' object has no attribute 'blowout'\n",
      "\n",
      "In [6]: p300.blow_out()\n",
      "Out[6]: <InstrumentContext: p300_single_v2.0 in RIGHT>\n",
      "\n",
      "In [7]: p300.drop_tip(tips_300[\"A1\"])\n",
      "Out[7]: <InstrumentContext: p300_single_v2.0 in RIGHT>\n",
      "\n",
      "In [8]: exit()\n",
      "\n"
     ]
    }
   ],
   "source": [
    "from IPython import embed\n",
    "\n",
    "embed()"
   ]
  },
  {
   "cell_type": "code",
   "execution_count": null,
   "metadata": {},
   "outputs": [],
   "source": []
  }
 ],
 "metadata": {
  "kernelspec": {
   "display_name": "Python 3",
   "language": "python",
   "name": "python3"
  },
  "language_info": {
   "codemirror_mode": {
    "name": "ipython",
    "version": 3
   },
   "file_extension": ".py",
   "mimetype": "text/x-python",
   "name": "python",
   "nbconvert_exporter": "python",
   "pygments_lexer": "ipython3",
   "version": "3.7.1"
  }
 },
 "nbformat": 4,
 "nbformat_minor": 2
}
