{
 "cells": [
  {
   "cell_type": "code",
   "execution_count": 1,
   "metadata": {},
   "outputs": [
    {
     "name": "stderr",
     "output_type": "stream",
     "text": [
      "/var/user-packages/usr/lib/python3.7/site-packages/urllib3/__init__.py:38: NotOpenSSLWarning: urllib3 v2.0 only supports OpenSSL 1.1.1+, currently the 'ssl' module is compiled with 'LibreSSL 2.7.4'. See: https://github.com/urllib3/urllib3/issues/3020\n",
      "  exceptions.NotOpenSSLWarning,\n"
     ]
    },
    {
     "name": "stdout",
     "output_type": "stream",
     "text": [
      "Helper initialized in 0.00 seconds.\n"
     ]
    }
   ],
   "source": [
    "import sys\n",
    "import json\n",
    "from opentrons import protocol_api\n",
    "from opentrons.types import Point\n",
    "import helpers as h\n",
    "import opentrons.execute\n",
    "import time"
   ]
  },
  {
   "cell_type": "code",
   "execution_count": 2,
   "metadata": {
    "scrolled": true
   },
   "outputs": [
    {
     "name": "stderr",
     "output_type": "stream",
     "text": [
      "/data/robot_settings.json not found. Loading defaults\n",
      "Failed to initialize character device, will not be able to control gpios (lights, button, smoothiekill, smoothie reset). Only one connection can be made to the gpios at a time. If you need to control gpios, first stop the robot server with systemctl stop opentrons-robot-server. Until you restart the server with systemctl start opentrons-robot-server, you will be unable to control the robot using the Opentrons app.\n"
     ]
    },
    {
     "name": "stdout",
     "output_type": "stream",
     "text": [
      "Setup has initiated.\n"
     ]
    },
    {
     "name": "stderr",
     "output_type": "stream",
     "text": [
      "/data/deck_calibration.json not found. Loading defaults\n"
     ]
    },
    {
     "name": "stdout",
     "output_type": "stream",
     "text": [
      "Clearing all objects from deck.\n",
      "Homing...\n",
      "Homing done in 16.70 seconds.\n",
      "\u001b[92m[opentrons_96_filtertiprack_20ul] @ 11: 0.0 1.1000000000002501 -0.20000000000000284\u001b[0m\n",
      "\u001b[93m[rexchem_1_reservoir_225112.5ul] @ 7: No offset data\u001b[0m\n",
      "\u001b[93m[rexchem_tlc] @ 4: No offset data\u001b[0m\n",
      "\u001b[93m[rexchem_tlc] @ 1: No offset data\u001b[0m\n",
      "\u001b[93m[rexchem_tlc] @ 5: No offset data\u001b[0m\n",
      "\u001b[93m[rexchem_tlc] @ 2: No offset data\u001b[0m\n",
      "\u001b[93m[rexchem_tlc] @ 6: No offset data\u001b[0m\n",
      "\u001b[93m[rexchem_tlc] @ 3: No offset data\u001b[0m\n",
      "Setup is done.\n"
     ]
    }
   ],
   "source": [
    "print(\"Setup has initiated.\")\n",
    "protocol = opentrons.execute.get_protocol_api('2.12')\n",
    "l = h.Loader(protocol)\n",
    "l.wipe_deck()\n",
    "print(\"Homing...\")\n",
    "start = time.time()\n",
    "protocol.home()\n",
    "end = time.time()\n",
    "print(f\"Homing done in {end - start:.2f} seconds.\")\n",
    "\n",
    "#worker = h.Worker(\"SSFL_data.xlsx\", last_letter=\"D\", last_number=6)\n",
    " \n",
    "# Labware setup\n",
    "tips_20 = l.load('opentrons_96_filtertiprack_20ul', 11)\n",
    "\n",
    "#tips_300 = l.load(\"opentrons_96_tiprack_300ul\", 10)\n",
    "\n",
    "reservoir = l.load(\"rexchem_1_reservoir_225112.5ul.json\", 7)\n",
    "\n",
    "plate1_top = l.load(\"rexchem_tlc.json\", 4)\n",
    "plate1_bottom = l.load(\"rexchem_tlc.json\", 1)\n",
    "\n",
    "plate2_top = l.load(\"rexchem_tlc.json\", 5)\n",
    "plate2_bottom = l.load(\"rexchem_tlc.json\", 2)\n",
    "\n",
    "plate3_top = l.load(\"rexchem_tlc.json\", 6)\n",
    "plate3_bottom = l.load(\"rexchem_tlc.json\", 3)\n",
    "\n",
    "\n",
    "#p10 = protocol.load_instrument(\"p10_multi\", \"left\", tip_racks=[tips_20])\n",
    "#p10.well_bottom_clearance.aspirate, p10.well_bottom_clearance.dispense = 3, 3\n",
    "p20 = protocol.load_instrument(\"p20_single_gen2\", \"right\", tip_racks=[tips_20])\n",
    "p20.well_bottom_clearance.aspirate, p20.well_bottom_clearance.dispense = 3, -1\n",
    "if p20.has_tip:\n",
    "    print(\"Tip detected, dropping...\")\n",
    "    p20.drop_tip()\n",
    "\n",
    "print(\"Setup is done.\")\n",
    "#active.transfer(vol, reservoir[\"A1\"], plate[job[\"location\"]], new_tip=\"never\", blow_out=True)\n"
   ]
  },
  {
   "cell_type": "code",
   "execution_count": null,
   "metadata": {},
   "outputs": [],
   "source": [
    "test_spot = plate1_bottom[\"H1\"].center()\n",
    "print(test_spot)\n",
    "high_test_spot = test_spot.move(Point(y=-4 ,z=5))\n",
    "print(high_test_spot)\n",
    "\n",
    "\n",
    "#p20.move_to(high_test_spot)"
   ]
  },
  {
   "cell_type": "code",
   "execution_count": 3,
   "metadata": {},
   "outputs": [
    {
     "data": {
      "text/plain": [
       "<InstrumentContext: p20_single_v2.2 in RIGHT>"
      ]
     },
     "execution_count": 3,
     "metadata": {},
     "output_type": "execute_result"
    }
   ],
   "source": [
    "p20.pick_up_tip()\n",
    "p20.transfer(2, reservoir[\"A1\"], plate1_top.columns(), new_tip=\"never\")\n",
    "p20.transfer(2, reservoir[\"A1\"], plate1_top[\"H1\"].center().move(Point(y=-9.2, z=-1)), new_tip=\"never\")\n",
    "p20.transfer(2, reservoir[\"A1\"], plate1_bottom.columns(), new_tip=\"never\")\n",
    "\n",
    "p20.drop_tip(tips_20[\"A1\"])"
   ]
  },
  {
   "cell_type": "code",
   "execution_count": null,
   "metadata": {},
   "outputs": [],
   "source": [
    "p20.drop_tip()"
   ]
  },
  {
   "cell_type": "code",
   "execution_count": null,
   "metadata": {},
   "outputs": [],
   "source": []
  }
 ],
 "metadata": {
  "kernelspec": {
   "display_name": "Python 3",
   "language": "python",
   "name": "python3"
  },
  "language_info": {
   "codemirror_mode": {
    "name": "ipython",
    "version": 3
   },
   "file_extension": ".py",
   "mimetype": "text/x-python",
   "name": "python",
   "nbconvert_exporter": "python",
   "pygments_lexer": "ipython3",
   "version": "3.7.1"
  }
 },
 "nbformat": 4,
 "nbformat_minor": 2
}
